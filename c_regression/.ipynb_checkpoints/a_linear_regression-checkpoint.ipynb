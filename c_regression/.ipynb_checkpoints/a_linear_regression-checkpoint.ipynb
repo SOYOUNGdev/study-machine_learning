{
 "cells": [
  {
   "cell_type": "markdown",
   "id": "8d10d876-40d2-4157-a095-d3eea8526eab",
   "metadata": {},
   "source": [
    "### 회귀 (Regression)\r\n",
    "- 데이터가 평균과 같은 일정한 값으로 돌아가려는 경향을 이용한 통계학 기법이다.\r\n",
    "- 여러 개의 독립 변수와 한 개의 종속 변수 간의 상관관계를 모델링하는 기법을 통칭한다.\r\n",
    "- feature와 target 데이터 기반으로 학습하여 최적의 회귀 계수(W)를 찾는 것이 회귀의 목적이다.\r\n",
    "- 아래는 복습 시간에 따른 다음 수업의 이해도를 수치로 표현한 표이다.\r\n",
    "\r\n",
    "\r\n",
    "---\r\n",
    "<div style=\"display: flex; justify-content: center; width: 900px;\">\r\n",
    "    <table style=\"margin-left: 20px; text-align: center; border: 1px solid #eee; width: 500px;\">\r\n",
    "        <tr>\r\n",
    "            <th>복습 시간 (x)</th>\r\n",
    "            <th>다음 수업의 이해도 (y)</th>\r\n",
    "        </tr>\r\n",
    "        <tr>\r\n",
    "            <td>1</td>\r\n",
    "            <td>2.2</td>\r\n",
    "        </tr>\r\n",
    "        <tr>\r\n",
    "            <td>2</td>\r\n",
    "            <td>5.8</td>\r\n",
    "        </tr>\r\n",
    "        <tr>\r\n",
    "            <td>3</td>\r\n",
    "            <td>7.6</td>\r\n",
    "        </tr>\r\n",
    "        <tr>\r\n",
    "            <td>4</td>\r\n",
    "            <td>9.3</td>\r\n",
    "        </tr>\r\n",
    "    </table>  \r\n",
    "    <div style=\"margin-top: 60px;\">\r\n",
    "        <img src=\"./images/regression_train.png\">\r\n",
    "    </div>\r\n",
    "</div>  \r\n",
    "\r\n",
    "---\r\n",
    "\r\n",
    "- 5시간 복습을 했을 때, 다음 수업의 이해도를 예측하고자 한다면,  \r\n",
    "학습 데이터(x)를 가장 잘 표현할 수 있는 직선을 찾아야 하고, 이 식을 가설(Hypothesis)라고 한다.\r\n",
    "- 아래는 위 데이터를 표현하고자 하는 직선의 방정식과 가설이다.\r\n",
    "\r\n",
    "<img src=\"./images/regression_h.png\" style=\"margin-left: 20px;\">  \r\n",
    "\r\n",
    "- 수학에서 W는 기울기, b는 절편이지만, 가설에서 W(Weight) 가중치, b(bias)를 편향이라 한다. 편향은 다양한 요인을 대표하는 값이다."
   ]
  },
  {
   "cell_type": "code",
   "execution_count": null,
   "id": "913e5630-05a0-42f6-b1a6-01184bc430a7",
   "metadata": {},
   "outputs": [],
   "source": []
  },
  {
   "cell_type": "code",
   "execution_count": null,
   "id": "b84a00bd-7210-4060-b3be-bfd2c183902f",
   "metadata": {},
   "outputs": [],
   "source": []
  },
  {
   "cell_type": "code",
   "execution_count": null,
   "id": "7882a622-f102-496c-9f31-68aab7ce8b09",
   "metadata": {},
   "outputs": [],
   "source": []
  },
  {
   "cell_type": "code",
   "execution_count": null,
   "id": "126276fc-9b30-44fa-9ad0-692da0a3a00b",
   "metadata": {},
   "outputs": [],
   "source": []
  },
  {
   "cell_type": "code",
   "execution_count": null,
   "id": "566ba854-a2e7-4fe6-8761-d5d23b0e36b1",
   "metadata": {},
   "outputs": [],
   "source": []
  },
  {
   "cell_type": "code",
   "execution_count": null,
   "id": "f7200d9d-7aed-41cb-9be5-cb16a7e6ad28",
   "metadata": {},
   "outputs": [],
   "source": []
  },
  {
   "cell_type": "code",
   "execution_count": null,
   "id": "ed2769cc-8551-4d84-bb59-c7700da920e3",
   "metadata": {},
   "outputs": [],
   "source": []
  },
  {
   "cell_type": "code",
   "execution_count": null,
   "id": "78d38993-6d33-481a-96fe-98a86ee62791",
   "metadata": {},
   "outputs": [],
   "source": []
  },
  {
   "cell_type": "code",
   "execution_count": null,
   "id": "cf30f178-57f6-4170-bfea-21f7ab943365",
   "metadata": {},
   "outputs": [],
   "source": []
  },
  {
   "cell_type": "code",
   "execution_count": null,
   "id": "19bc5e23-59b7-4cf8-89e9-e7a9af84d0b7",
   "metadata": {},
   "outputs": [],
   "source": []
  },
  {
   "cell_type": "code",
   "execution_count": null,
   "id": "c7df4fb1-199c-46c1-b0d7-63c47a7c76aa",
   "metadata": {},
   "outputs": [],
   "source": []
  }
 ],
 "metadata": {
  "kernelspec": {
   "display_name": "Python 3 (ipykernel)",
   "language": "python",
   "name": "python3"
  },
  "language_info": {
   "codemirror_mode": {
    "name": "ipython",
    "version": 3
   },
   "file_extension": ".py",
   "mimetype": "text/x-python",
   "name": "python",
   "nbconvert_exporter": "python",
   "pygments_lexer": "ipython3",
   "version": "3.11.8"
  }
 },
 "nbformat": 4,
 "nbformat_minor": 5
}
